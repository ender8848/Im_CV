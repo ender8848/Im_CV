{
 "cells": [
  {
   "cell_type": "markdown",
   "metadata": {
    "tags": []
   },
   "source": [
    "# Coursework 2: Fish Classification\n",
    "\n",
    "Created by Athanasios Vlontzos and Wenjia Bai\n",
    "\n",
    "In this coursework, you will be exploring the application of convolutional neural networks for image classification tasks. As opposed to standard applications such as object or face classification, we will be dealing with a slightly different domain, fish classification for precision fishing.\n",
    "\n",
    "In precision fishing, engineers and fishmen collaborate to extract a wide variety of information about the fish, their species and wellbeing etc. using data from satellite images to drones surveying the fisheries. The goal of precision fishing is to provide the marine industry with information to support their decision making processes.\n",
    "\n",
    "Here your will develop an image classification model that can classify fish species given input images. It consists of **two tasks**. The **first task** is to **train a model for the following species**:\n",
    "- Black Sea Sprat\n",
    "- Gilt-Head Bream\n",
    "- Shrimp\n",
    "- Striped Red Mullet\n",
    "- Trout\n",
    "\n",
    "The **second task** is to **finetune the last layer of the trained model** to adapt to some new species, including:\n",
    "- Hourse Mackerel\n",
    "- Red Mullet\n",
    "- Red Sea Bream\n",
    "- Sea Bass\n",
    "\n",
    "You will be working using a large-scale fish dataset [1].\n",
    "\n",
    "[1] O. Ulucan, D. Karakaya and M. Turkan. A large-scale dataset for fish segmentation and classification. Innovations in Intelligent Systems and Applications Conference (ASYU). 2020."
   ]
  },
  {
   "cell_type": "markdown",
   "metadata": {},
   "source": [
    "## Step 0: Download data.\n",
    "\n",
    "[Download the Data from here -- make sure you access it with your Imperial account.](https://imperiallondon-my.sharepoint.com/:f:/g/personal/av2514_ic_ac_uk/EkA9HyXVvgdFoLI4P_IfO1cBO_CsvY1KN4NE8iuD-s_VlA?e=Ip03rF)\n",
    "\n",
    "It is a ~2.5GB file. You can save the images and annotations directories in the same directory as this notebook or somewhere else.\n",
    "\n",
    "The fish dataset contains 9 species of fishes. There are 1,000 images for each fish species, named as %05d.png in each subdirectory."
   ]
  },
  {
   "cell_type": "markdown",
   "metadata": {},
   "source": [
    "## Step 1: Load the data. (15 Points)\n",
    "\n",
    "- Complete the dataset class with the skeleton below.\n",
    "- Add any transforms you feel are necessary.\n",
    "\n",
    "Your class should have at least 3 elements\n",
    "- An ```__init__``` function that sets up your class and all the necessary parameters.\n",
    "- An ```__len__``` function that returns the size of your dataset.\n",
    "- An ```__getitem__``` function that given an index within the limits of the size of the dataset returns the associated image and label in tensor form.\n",
    "\n",
    "You may add more helper functions if you want.\n",
    "\n",
    "In this section we are following the Pytorch [dataset](https://pytorch.org/vision/stable/datasets.html) class structure. You can take inspiration from their documentation."
   ]
  },
  {
   "cell_type": "code",
   "execution_count": 1,
   "metadata": {
    "jupyter": {
     "outputs_hidden": false
    },
    "pycharm": {
     "name": "#%%\n"
    }
   },
   "outputs": [
    {
     "name": "stderr",
     "output_type": "stream",
     "text": [
      "C:\\Users\\85378\\anaconda3\\envs\\ML\\lib\\site-packages\\torchvision\\io\\image.py:11: UserWarning: Failed to load image Python extension: Could not find module 'C:\\Users\\85378\\anaconda3\\envs\\ML\\Lib\\site-packages\\torchvision\\image.pyd' (or one of its dependencies). Try using the full path with constructor syntax.\n",
      "  warn(f\"Failed to load image Python extension: {e}\")\n"
     ]
    }
   ],
   "source": [
    "# Dependencies\n",
    "import pandas as pd\n",
    "from torch.utils.data import Dataset, DataLoader\n",
    "from torchvision import transforms, datasets\n",
    "import os\n",
    "from PIL import Image\n",
    "import numpy as np\n",
    "from tqdm import tqdm\n",
    "import torch\n",
    "import torch.nn as nn\n",
    "import torch.nn.functional as F\n",
    "import matplotlib.pyplot as plt\n",
    "import glob\n",
    "import copy\n",
    "\n",
    "device = torch.device(\"cuda:0\" if torch.cuda.is_available() else \"cpu\")"
   ]
  },
  {
   "cell_type": "markdown",
   "metadata": {},
   "source": [
    "Some global constants, helper functions with indexes"
   ]
  },
  {
   "cell_type": "code",
   "execution_count": 2,
   "metadata": {
    "jupyter": {
     "outputs_hidden": false
    },
    "pycharm": {
     "name": "#%%\n"
    }
   },
   "outputs": [],
   "source": [
    "# We will start by building a dataset class using the following 5 species\n",
    "Multiclass_labels_correspondances = {\n",
    "    'Black Sea Sprat': 0,\n",
    "    'Gilt-Head Bream': 1,\n",
    "    'Shrimp': 2,\n",
    "    'Striped Red Mullet': 3,\n",
    "    'Trout': 4\n",
    "}\n",
    "\n",
    "# The 5 species will contain 5,000 images in total.\n",
    "# Helper function to get train, val, test indexs\n",
    "# If require_val = True, will generate training (64%), valdation(16%) and test (20%) sets\n",
    "def split_train_val_test(lendata, percentage=0.8, require_val = True):\n",
    "    rg = np.random.default_rng()\n",
    "    idxs = rg.permutation(lendata)\n",
    "    idxs_train_val = idxs[:int(lendata*percentage)]\n",
    "    idxs_test = idxs[int(lendata*percentage):]\n",
    "    if require_val:\n",
    "        idxs_train = idxs_train_val[:int(len(idxs_train_val)*percentage)]\n",
    "        idxs_val = idxs_train_val[int(len(idxs_train_val)*percentage):]\n",
    "    else:\n",
    "        idxs_train = idxs_train_val\n",
    "        idxs_val = None\n",
    "    return idxs_train, idxs_val, idxs_test\n",
    "\n",
    "# a helper function to shuffle train and val index\n",
    "def shuffle_train_val_idx(idxs_train, idxs_val):\n",
    "    new_idxs_all = np.concatenate([idxs_train, idxs_val])\n",
    "    np.random.shuffle(new_idxs_all)\n",
    "    idxs_train_new = new_idxs_all[:len(idxs_train)]\n",
    "    idxs_val_new = new_idxs_all[len(idxs_train):]\n",
    "    return idxs_train_new, idxs_val_new\n",
    "\n",
    "LENDATA = 5000\n",
    "np.random.seed(42)\n",
    "idxs_train, idxs_val, idxs_test = split_train_val_test(LENDATA,0.8)"
   ]
  },
  {
   "cell_type": "markdown",
   "metadata": {},
   "source": [
    "Dataset class Implementation"
   ]
  },
  {
   "cell_type": "code",
   "execution_count": 3,
   "metadata": {},
   "outputs": [],
   "source": [
    "class FishDataset(Dataset):\n",
    "    def __init__(self,\n",
    "                 path_to_images,\n",
    "                 idxs_train,\n",
    "                 idxs_val,\n",
    "                 idxs_test,\n",
    "                 transform_extra=None, \n",
    "                 img_size=128,\n",
    "                 mode = \"train\"):\n",
    "        \"\"\"\n",
    "        path_to_images: where you put the fish dataset\n",
    "        idxs_train: training set indexes\n",
    "        idxs_val: validation set indexes, can be None\n",
    "        idxs_test: test set indexes\n",
    "        transform_extra: extra PIL transformation method\n",
    "        img_size: resize all images to a standard size\n",
    "        mode: \"train\", \"val\" or \"test\"\n",
    "        \"\"\"\n",
    "        assert (mode in [\"train\", \"val\", \"test\"])\n",
    "        self.idxs_train = idxs_train\n",
    "        self.idxs_val = idxs_val\n",
    "        self.idxs_test = idxs_test\n",
    "        self.transform_extra = transform_extra\n",
    "        self.img_size = img_size\n",
    "        self.mode = mode\n",
    "        self.images = []\n",
    "        self.labels = []\n",
    "        \n",
    "        # Load all the images and their labels\n",
    "        each_img_path_all = glob.glob(path_to_images + \"/*/*\")\n",
    "        # only store wanted class, resize, extract the images and labels\n",
    "        for path in each_img_path_all:\n",
    "            for wanted_class in Multiclass_labels_correspondances.keys():\n",
    "                if wanted_class in path:\n",
    "                    original_im=Image.open(path)\n",
    "                    if transform_extra:\n",
    "                        im = original_im.transform((img_size,img_size), transform_extra)\n",
    "                    else:\n",
    "                        im = original_im.resize((img_size,img_size))\n",
    "                    self.images.append(im)\n",
    "                    self.labels.append(Multiclass_labels_correspondances[wanted_class])\n",
    "    \n",
    "    def __len__(self):\n",
    "        # Return the number of samples\n",
    "        if self.mode == \"train\":\n",
    "            return self.idxs_train.size\n",
    "        elif self.mode == \"val\":\n",
    "            return self.idxs_val.size\n",
    "        else:\n",
    "            return self.idxs_test.size\n",
    "        \n",
    "    def __getitem__(self, idx):\n",
    "        # Get an image and its label using its index\n",
    "        if self.mode == \"train\":\n",
    "            idx_ = self.idxs_train[idx]\n",
    "        elif self.mode == \"val\":\n",
    "            idx_ = self.idxs_val[idx]\n",
    "        else:\n",
    "            idx_ = self.idxs_test[idx]\n",
    "        single_img_tensor = transforms.ToTensor()(self.images[idx_])\n",
    "        single_lab_tensor = torch.zeros(len(Multiclass_labels_correspondances), dtype = torch.float)\n",
    "        single_lab_tensor[self.labels[idx_]] = 1\n",
    "        return (single_img_tensor, single_lab_tensor)\n",
    "    \n",
    "    def set_mode(self, mode):\n",
    "        # change datast mode\n",
    "        assert (mode in [\"train\", \"val\", \"test\"])\n",
    "        self.mode = mode\n",
    "    \n",
    "    def set_idx(self, idxs_train, idxs_val, idxs_test):\n",
    "        # change index of train, val, and test dataset\n",
    "        self.idxs_train = idxs_train\n",
    "        self.idxs_val = idxs_val\n",
    "        self.idxs_test = idxs_test"
   ]
  },
  {
   "cell_type": "markdown",
   "metadata": {
    "tags": []
   },
   "source": [
    "## Step 2: Explore the data. (15 Points)\n",
    "\n",
    "### Step 2.1: Data visualisation. (5 points)\n",
    "\n",
    "- Plot data distribution, i.e. the number of samples per class.\n",
    "- Plot 1 sample from each of the five classes in the training set."
   ]
  },
  {
   "cell_type": "code",
   "execution_count": 4,
   "metadata": {
    "jupyter": {
     "outputs_hidden": false
    },
    "pycharm": {
     "name": "#%%\n"
    }
   },
   "outputs": [
    {
     "data": {
      "image/png": "[encoded data removed]",
      "text/plain": [
       "<Figure size 468x216 with 1 Axes>"
      ]
     },
     "metadata": {
      "needs_background": "light"
     },
     "output_type": "display_data"
    },
    {
     "name": "stdout",
     "output_type": "stream",
     "text": [
      "Black Sea Sprat\n"
     ]
    },
    {
     "data": {
      "image/png": "[encoded data removed]",
      "text/plain": [
       "<Figure size 144x144 with 1 Axes>"
      ]
     },
     "metadata": {
      "needs_background": "light"
     },
     "output_type": "display_data"
    },
    {
     "name": "stdout",
     "output_type": "stream",
     "text": [
      "Gilt-Head Bream\n"
     ]
    },
    {
     "data": {
      "image/png": "[encoded data removed]",
      "text/plain": [
       "<Figure size 144x144 with 1 Axes>"
      ]
     },
     "metadata": {
      "needs_background": "light"
     },
     "output_type": "display_data"
    },
    {
     "name": "stdout",
     "output_type": "stream",
     "text": [
      "Shrimp\n"
     ]
    },
    {
     "data": {
      "image/png": "[encoded data removed]",
      "text/plain": [
       "<Figure size 144x144 with 1 Axes>"
      ]
     },
     "metadata": {
      "needs_background": "light"
     },
     "output_type": "display_data"
    },
    {
     "name": "stdout",
     "output_type": "stream",
     "text": [
      "Striped Red Mullet\n"
     ]
    },
    {
     "data": {
      "image/png": "[encoded data removed]",
      "text/plain": [
       "<Figure size 144x144 with 1 Axes>"
      ]
     },
     "metadata": {
      "needs_background": "light"
     },
     "output_type": "display_data"
    },
    {
     "name": "stdout",
     "output_type": "stream",
     "text": [
      "Trout\n"
     ]
    },
    {
     "data": {
      "image/png": "[encoded data removed]",
      "text/plain": [
       "<Figure size 144x144 with 1 Axes>"
      ]
     },
     "metadata": {
      "needs_background": "light"
     },
     "output_type": "display_data"
    }
   ],
   "source": [
    "# Training set\n",
    "img_path = \"Fish_Dataset\"\n",
    "dataset  = FishDataset(img_path, idxs_train, idxs_val, idxs_test, mode = \"train\")\n",
    "\n",
    "# Plot the number of samples per class\n",
    "plt.style.use('_mpl-gallery')\n",
    "fig = plt.gcf()\n",
    "fig.set_size_inches(6.5, 3)\n",
    "num2name = {value : key for (key, value) in Multiclass_labels_correspondances.items()}\n",
    "\n",
    "labels_unique, labels_count = np.unique(np.array(dataset.labels), return_counts = True)\n",
    "labels_unique = [num2name[i] for i in labels_unique]\n",
    "plt.bar(labels_unique, labels_count)\n",
    "plt.xlabel(\"fish type\")\n",
    "plt.ylabel(\"image number\")\n",
    "plt.title(\"image number of different fish types\")\n",
    "plt.show()\n",
    "\n",
    "# Plot 1 sample from each of the five classes in the training set\n",
    "for i in range(0, LENDATA, int(LENDATA/5)):\n",
    "    img = dataset.images[i]\n",
    "    label = dataset.labels[i]\n",
    "    print(num2name[label])\n",
    "    plt.imshow(img)\n",
    "    plt.show()"
   ]
  },
  {
   "cell_type": "markdown",
   "metadata": {},
   "source": [
    "### Step 2.2: Discussion. (10 points)\n",
    "\n",
    "* Is the dataset balanced?\n",
    "\n",
    "It is balanced because each class contains equal number (1000) of  image samples.\n",
    "\n",
    "* Can you think of 3 ways to make the dataset balanced if it is not?\n",
    "\n",
    "1. Downsample the majority: Select randomly equal number of images as the minority class.\n",
    "\n",
    "2. Upsample the minority: Duplicate images (and potentially, add some noise or do some augmentation) in minority classes until each class has the same size.\n",
    "\n",
    "3. Synthetic samples: Generate new images that are similar to original minority classes. For example, we can use KNN to detect similar images and synthesize a new image using K images' linear interpolation. \n",
    "\n",
    "* Is the dataset already pre-processed? If yes, how?\n",
    "\n",
    "Yes, it has already been pre-processed. Taking Black Sea Sprat class as an exmaple, the original image has been rotated with different degrees(00001 vs. 00003), flipped(00001 vs. 00002). As far as I see, each original image is pre-processed using 10 rotations along with 2 flips, hence generating 20 augmentation images."
   ]
  },
  {
   "cell_type": "markdown",
   "metadata": {},
   "source": [
    "## Step 3: Multiclass classification. (55 points)\n",
    "In this section we will try to make a multiclass classifier to determine the species of the fish.\n",
    "\n",
    "### Step 3.1: Define the model. (15 points)\n",
    "\n",
    "Design a neural network which consists of a number of convolutional layers and a few fully connected ones at the end.\n",
    "\n",
    "The exact architecture is up to you but you do NOT need to create something complicated. For example, you could design a LeNet insprired network."
   ]
  },
  {
   "cell_type": "code",
   "execution_count": 5,
   "metadata": {
    "jupyter": {
     "outputs_hidden": false
    },
    "pycharm": {
     "name": "#%%\n"
    }
   },
   "outputs": [],
   "source": [
    "# a simple NiN block\n",
    "def NiN_block(in_channels, out_channels, kernel_size, strides, padding):\n",
    "    return nn.Sequential (\n",
    "        nn.Conv2d(in_channels, out_channels, kernel_size, strides, padding),\n",
    "        nn.BatchNorm2d(out_channels),\n",
    "        nn.ReLU(),\n",
    "        nn.Conv2d(out_channels, out_channels, kernel_size=1), \n",
    "        nn.BatchNorm2d(out_channels), \n",
    "        nn.ReLU(),\n",
    "        nn.Conv2d(out_channels, out_channels, kernel_size=1), \n",
    "        nn.BatchNorm2d(out_channels), \n",
    "        nn.ReLU())\n",
    "\n",
    "# a simple full_connection block\n",
    "def full_connection(in_channels, out_channels):\n",
    "    return nn.Sequential(\n",
    "        nn.Linear(in_channels, in_channels),\n",
    "        nn.BatchNorm1d(in_channels), \n",
    "        nn.ReLU(),\n",
    "        nn.Dropout(0.4), \n",
    "        nn.Linear(in_channels, in_channels),\n",
    "        nn.BatchNorm1d(in_channels), \n",
    "        nn.ReLU(),\n",
    "        nn.Dropout(0.4), \n",
    "        nn.Linear(in_channels, out_channels))\n",
    "\n",
    "class Net(nn.Module):\n",
    "    def __init__(self, *args, output_dims = 1,):\n",
    "        super(Net, self).__init__()\n",
    "        for idx, block in enumerate(args):\n",
    "            self._modules[str(idx)] = block\n",
    "        \n",
    "    def forward(self, x):\n",
    "        # Forward propagation\n",
    "        for block in self._modules.values():\n",
    "            x = block(x)\n",
    "        return x\n",
    "    \n",
    "    def __iter__(self):\n",
    "        return iter(self._modules.values())"
   ]
  },
  {
   "cell_type": "markdown",
   "metadata": {},
   "source": [
    "### Step 3.2: Define the training parameters. (10 points)\n",
    "\n",
    "- Loss function\n",
    "- Optimizer\n",
    "- Learning Rate\n",
    "- Number of iterations\n",
    "- Batch Size\n",
    "- Other relevant hyperparameters"
   ]
  },
  {
   "cell_type": "code",
   "execution_count": 6,
   "metadata": {
    "jupyter": {
     "outputs_hidden": false
    },
    "pycharm": {
     "name": "#%%\n"
    }
   },
   "outputs": [],
   "source": [
    "model = Net(\n",
    "    NiN_block(3, 96, kernel_size=11, strides = 2, padding=0),\n",
    "    nn.MaxPool2d(3, stride=2),\n",
    "    NiN_block(96, 256, kernel_size=5, strides = 2, padding=0), \n",
    "    nn.MaxPool2d(3, stride=2), \n",
    "    NiN_block(256, 384, kernel_size=3, strides = 1, padding=1), \n",
    "    nn.MaxPool2d(3, stride=2), \n",
    "    nn.Flatten(),\n",
    "    full_connection(1536, 5))\n",
    "\n",
    "# Loss function, softmax will be done automatically here\n",
    "loss = nn.CrossEntropyLoss(reduction='none')\n",
    "# Optimiser and learning rate\n",
    "lr = 0.05\n",
    "optimizer = torch.optim.Adam(model.parameters(), lr=lr)\n",
    "# Number of iterations for training\n",
    "epochs = 20\n",
    "# Training batch size\n",
    "train_batch_size = 128"
   ]
  },
  {
   "cell_type": "code",
   "execution_count": 7,
   "metadata": {},
   "outputs": [
    {
     "name": "stdout",
     "output_type": "stream",
     "text": [
      "---------------------Layer shape check---------------------\n",
      "Sequential output shape:\t torch.Size([4, 96, 59, 59])\n",
      "MaxPool2d output shape:\t torch.Size([4, 96, 29, 29])\n",
      "Sequential output shape:\t torch.Size([4, 256, 13, 13])\n",
      "MaxPool2d output shape:\t torch.Size([4, 256, 6, 6])\n",
      "Sequential output shape:\t torch.Size([4, 384, 6, 6])\n",
      "MaxPool2d output shape:\t torch.Size([4, 384, 2, 2])\n",
      "Flatten output shape:\t torch.Size([4, 1536])\n",
      "Sequential output shape:\t torch.Size([4, 5])\n"
     ]
    }
   ],
   "source": [
    "print(\"---------------------Layer shape check---------------------\")\n",
    "X = torch.rand(size=(4, 3, 128, 128))\n",
    "model.to(device)\n",
    "X = X.to(device)\n",
    "for layer in model:\n",
    "    X = layer(X)\n",
    "    print(layer.__class__.__name__,'output shape:\\t', X.shape)"
   ]
  },
  {
   "cell_type": "code",
   "execution_count": 8,
   "metadata": {},
   "outputs": [],
   "source": [
    "# Based on the FishDataset, use the PyTorch DataLoader to load the data during model training\n",
    "train_dataset = FishDataset(img_path, idxs_train, idxs_val, idxs_test, mode = \"train\")\n",
    "val_dataset = FishDataset(img_path, idxs_train, idxs_val, idxs_test, mode = \"val\")\n",
    "test_dataset = FishDataset(img_path, idxs_train, idxs_val, idxs_test, mode = \"test\")\n",
    "train_dataloader = DataLoader(train_dataset, batch_size = train_batch_size)\n",
    "val_dataloader = DataLoader(val_dataset)\n",
    "test_dataloader = DataLoader(test_dataset)"
   ]
  },
  {
   "cell_type": "markdown",
   "metadata": {},
   "source": [
    "### Step 3.3: Train the model. (15 points)\n",
    "\n",
    "Below is the helper fucntion to train a model"
   ]
  },
  {
   "cell_type": "code",
   "execution_count": 9,
   "metadata": {},
   "outputs": [],
   "source": [
    "def train_model(model, train_dataloader, loss, optimizer, epochs, lr, show_progress = False):\n",
    "    model.to(device)\n",
    "    \n",
    "    if show_progress:\n",
    "        it = tqdm(range(epochs))\n",
    "    else:\n",
    "        it = range(epochs)\n",
    "        \n",
    "    for epoch in it:\n",
    "        model.train()\n",
    "        loss_curve = []\n",
    "        # Get a batch of training data and train the model\n",
    "        for i, (x, y) in enumerate(train_dataloader):\n",
    "            x = x.to(device)\n",
    "            y = y.to(device)\n",
    "            optimizer.zero_grad()\n",
    "            y_hat = model(x)\n",
    "            l = loss(y_hat, y).sum()\n",
    "            l.backward()\n",
    "            optimizer.step()\n",
    "            loss_curve.append(int(l))\n",
    "        if show_progress:\n",
    "            print('--- Iteration {0}: training loss = {1:.4f} ---'.format(epoch + 1, np.array(loss_curve).mean()))"
   ]
  },
  {
   "cell_type": "markdown",
   "metadata": {},
   "source": [
    "Firstly, I will just train with arbitrary hyper parameters"
   ]
  },
  {
   "cell_type": "code",
   "execution_count": 10,
   "metadata": {
    "jupyter": {
     "outputs_hidden": false
    },
    "pycharm": {
     "name": "#%%\n"
    }
   },
   "outputs": [
    {
     "name": "stderr",
     "output_type": "stream",
     "text": [
      "  5%|▌         | 1/20 [00:06<02:12,  6.98s/it]"
     ]
    },
    {
     "name": "stdout",
     "output_type": "stream",
     "text": [
      "--- Iteration 1: training loss = 575.9600 ---\n"
     ]
    },
    {
     "name": "stderr",
     "output_type": "stream",
     "text": [
      "\r",
      " 10%|█         | 2/20 [00:13<02:01,  6.73s/it]"
     ]
    },
    {
     "name": "stdout",
     "output_type": "stream",
     "text": [
      "--- Iteration 2: training loss = 251.8000 ---\n"
     ]
    },
    {
     "name": "stderr",
     "output_type": "stream",
     "text": [
      "\r",
      " 15%|█▌        | 3/20 [00:20<01:52,  6.64s/it]"
     ]
    },
    {
     "name": "stdout",
     "output_type": "stream",
     "text": [
      "--- Iteration 3: training loss = 203.4000 ---\n"
     ]
    },
    {
     "name": "stderr",
     "output_type": "stream",
     "text": [
      "\r",
      " 20%|██        | 4/20 [00:26<01:45,  6.60s/it]"
     ]
    },
    {
     "name": "stdout",
     "output_type": "stream",
     "text": [
      "--- Iteration 4: training loss = 209.5600 ---\n"
     ]
    },
    {
     "name": "stderr",
     "output_type": "stream",
     "text": [
      "\r",
      " 25%|██▌       | 5/20 [00:33<01:38,  6.58s/it]"
     ]
    },
    {
     "name": "stdout",
     "output_type": "stream",
     "text": [
      "--- Iteration 5: training loss = 157.6400 ---\n"
     ]
    },
    {
     "name": "stderr",
     "output_type": "stream",
     "text": [
      "\r",
      " 30%|███       | 6/20 [00:39<01:32,  6.58s/it]"
     ]
    },
    {
     "name": "stdout",
     "output_type": "stream",
     "text": [
      "--- Iteration 6: training loss = 151.4800 ---\n"
     ]
    },
    {
     "name": "stderr",
     "output_type": "stream",
     "text": [
      "\r",
      " 35%|███▌      | 7/20 [00:46<01:25,  6.57s/it]"
     ]
    },
    {
     "name": "stdout",
     "output_type": "stream",
     "text": [
      "--- Iteration 7: training loss = 99.2400 ---\n"
     ]
    },
    {
     "name": "stderr",
     "output_type": "stream",
     "text": [
      "\r",
      " 40%|████      | 8/20 [00:52<01:18,  6.58s/it]"
     ]
    },
    {
     "name": "stdout",
     "output_type": "stream",
     "text": [
      "--- Iteration 8: training loss = 62.4000 ---\n"
     ]
    },
    {
     "name": "stderr",
     "output_type": "stream",
     "text": [
      "\r",
      " 45%|████▌     | 9/20 [00:59<01:12,  6.57s/it]"
     ]
    },
    {
     "name": "stdout",
     "output_type": "stream",
     "text": [
      "--- Iteration 9: training loss = 43.1200 ---\n"
     ]
    },
    {
     "name": "stderr",
     "output_type": "stream",
     "text": [
      "\r",
      " 50%|█████     | 10/20 [01:05<01:05,  6.57s/it]"
     ]
    },
    {
     "name": "stdout",
     "output_type": "stream",
     "text": [
      "--- Iteration 10: training loss = 28.9600 ---\n"
     ]
    },
    {
     "name": "stderr",
     "output_type": "stream",
     "text": [
      "\r",
      " 55%|█████▌    | 11/20 [01:12<00:59,  6.56s/it]"
     ]
    },
    {
     "name": "stdout",
     "output_type": "stream",
     "text": [
      "--- Iteration 11: training loss = 21.1200 ---\n"
     ]
    },
    {
     "name": "stderr",
     "output_type": "stream",
     "text": [
      "\r",
      " 60%|██████    | 12/20 [01:19<00:52,  6.56s/it]"
     ]
    },
    {
     "name": "stdout",
     "output_type": "stream",
     "text": [
      "--- Iteration 12: training loss = 16.1200 ---\n"
     ]
    },
    {
     "name": "stderr",
     "output_type": "stream",
     "text": [
      "\r",
      " 65%|██████▌   | 13/20 [01:25<00:46,  6.57s/it]"
     ]
    },
    {
     "name": "stdout",
     "output_type": "stream",
     "text": [
      "--- Iteration 13: training loss = 18.2000 ---\n"
     ]
    },
    {
     "name": "stderr",
     "output_type": "stream",
     "text": [
      "\r",
      " 70%|███████   | 14/20 [01:32<00:39,  6.58s/it]"
     ]
    },
    {
     "name": "stdout",
     "output_type": "stream",
     "text": [
      "--- Iteration 14: training loss = 9.4800 ---\n"
     ]
    },
    {
     "name": "stderr",
     "output_type": "stream",
     "text": [
      "\r",
      " 75%|███████▌  | 15/20 [01:38<00:32,  6.58s/it]"
     ]
    },
    {
     "name": "stdout",
     "output_type": "stream",
     "text": [
      "--- Iteration 15: training loss = 7.0000 ---\n"
     ]
    },
    {
     "name": "stderr",
     "output_type": "stream",
     "text": [
      "\r",
      " 80%|████████  | 16/20 [01:45<00:26,  6.58s/it]"
     ]
    },
    {
     "name": "stdout",
     "output_type": "stream",
     "text": [
      "--- Iteration 16: training loss = 11.1200 ---\n"
     ]
    },
    {
     "name": "stderr",
     "output_type": "stream",
     "text": [
      "\r",
      " 85%|████████▌ | 17/20 [01:52<00:19,  6.59s/it]"
     ]
    },
    {
     "name": "stdout",
     "output_type": "stream",
     "text": [
      "--- Iteration 17: training loss = 14.2400 ---\n"
     ]
    },
    {
     "name": "stderr",
     "output_type": "stream",
     "text": [
      "\r",
      " 90%|█████████ | 18/20 [01:58<00:13,  6.61s/it]"
     ]
    },
    {
     "name": "stdout",
     "output_type": "stream",
     "text": [
      "--- Iteration 18: training loss = 7.0800 ---\n"
     ]
    },
    {
     "name": "stderr",
     "output_type": "stream",
     "text": [
      "\r",
      " 95%|█████████▌| 19/20 [02:05<00:06,  6.61s/it]"
     ]
    },
    {
     "name": "stdout",
     "output_type": "stream",
     "text": [
      "--- Iteration 19: training loss = 7.0000 ---\n"
     ]
    },
    {
     "name": "stderr",
     "output_type": "stream",
     "text": [
      "100%|██████████| 20/20 [02:11<00:00,  6.60s/it]"
     ]
    },
    {
     "name": "stdout",
     "output_type": "stream",
     "text": [
      "--- Iteration 20: training loss = 4.2000 ---\n"
     ]
    },
    {
     "name": "stderr",
     "output_type": "stream",
     "text": [
      "\n"
     ]
    }
   ],
   "source": [
    "train_model(model, train_dataloader, loss, optimizer, epochs, lr, show_progress = True)"
   ]
  },
  {
   "cell_type": "markdown",
   "metadata": {},
   "source": [
    "### Step 3.4: Deploy the trained model onto the test set. (10 points)"
   ]
  },
  {
   "cell_type": "code",
   "execution_count": 11,
   "metadata": {
    "jupyter": {
     "outputs_hidden": false
    },
    "pycharm": {
     "name": "#%%\n"
    }
   },
   "outputs": [],
   "source": [
    "# Deploy the model\n",
    "model.to(\"cpu\")\n",
    "y_test = []\n",
    "y_hat = []\n",
    "model.eval()\n",
    "for img_tensor, lab in test_dataloader:\n",
    "    with torch.no_grad():\n",
    "        y_test.append(int(lab.argmax()))\n",
    "        y_hat_single = model(img_tensor.reshape(-1, 3, 128, 128)).reshape(-1)\n",
    "        y_hat.append(int(y_hat_single.reshape(-1).argmax()))\n",
    "y_test = np.array(y_test)\n",
    "y_hat = np.array(y_hat)"
   ]
  },
  {
   "cell_type": "markdown",
   "metadata": {},
   "source": [
    "### Step 3.5: Evaluate the performance of the model and visualize the confusion matrix. (5 points)\n",
    "\n",
    "You can use sklearns related function.\n",
    "\n",
    "I will just implement it. Note that the following confusion_matrix and accuracy functions are retrieved from Introduction to Machine Learning lab notes. Students who take that course may use the same code. "
   ]
  },
  {
   "cell_type": "code",
   "execution_count": 12,
   "metadata": {},
   "outputs": [],
   "source": [
    "def confusion_matrix(y_gold, y_prediction, class_labels = None):\n",
    "    \"\"\"\n",
    "    compute confusion matrix given ground truth label and prediction label\n",
    "    \"\"\"\n",
    "    if not class_labels:\n",
    "        class_labels = np.unique(np.concatenate((y_gold, y_prediction)))\n",
    "    sorted(class_labels)\n",
    "    confusion = np.zeros((len(class_labels), len(class_labels)), dtype=int)\n",
    "    # for each correct class (row),\n",
    "    # compute how many instances are predicted for each class (columns)\n",
    "    for (i, label) in enumerate(class_labels):\n",
    "        # get predictions where the ground truth is the current class label\n",
    "        indices = (y_gold == label)\n",
    "        gold = y_gold[indices]\n",
    "        predictions = y_prediction[indices]\n",
    "        # get the counts per label\n",
    "        (unique_labels, counts) = np.unique(predictions, return_counts=True)\n",
    "        # convert the counts to a dictionary\n",
    "        frequency_dict = dict(zip(unique_labels, counts))\n",
    "        # fill up the confusion matrix for the current row\n",
    "        for (j, class_label) in enumerate(class_labels):\n",
    "            confusion[i, j] = frequency_dict.get(class_label, 0)\n",
    "    return confusion\n",
    "\n",
    "def accuracy(y, y_prediction):\n",
    "    \"\"\"\n",
    "    Compute the accuracy given the ground truth and predictions\n",
    "    \"\"\"\n",
    "    assert len(y) == len(y_prediction)\n",
    "    try:\n",
    "        return np.sum(y == y_prediction) / len(y)\n",
    "    except ZeroDivisionError:\n",
    "        return 0."
   ]
  },
  {
   "cell_type": "code",
   "execution_count": 13,
   "metadata": {
    "jupyter": {
     "outputs_hidden": false
    },
    "pycharm": {
     "name": "#%%\n"
    }
   },
   "outputs": [
    {
     "name": "stdout",
     "output_type": "stream",
     "text": [
      "[[188   0   0   0   0]\n",
      " [  4 214   0   3   0]\n",
      " [  0   0 177  13   0]\n",
      " [  7   0   3 198   0]\n",
      " [  6   2   1   0 184]]\n",
      "accuracy: 0.961\n"
     ]
    }
   ],
   "source": [
    "confusion = confusion_matrix(y_test, y_hat)\n",
    "print(confusion)\n",
    "print(\"accuracy:\", accuracy(y_test, y_hat))"
   ]
  },
  {
   "cell_type": "markdown",
   "metadata": {},
   "source": [
    "Note that **above result is from arbitrary hyper parameters, it seems overfits a bit**. The following codes get the best hyper parameter using a brute search"
   ]
  },
  {
   "cell_type": "code",
   "execution_count": 14,
   "metadata": {},
   "outputs": [
    {
     "name": "stdout",
     "output_type": "stream",
     "text": [
      "current best hyper params are epoch_num 10, batch_size 32, learning rate 0.5, with best val acc 0.16375\n",
      "current best hyper params are epoch_num 10, batch_size 32, learning rate 0.2, with best val acc 0.45\n",
      "current best hyper params are epoch_num 10, batch_size 32, learning rate 0.1, with best val acc 0.81125\n",
      "current best hyper params are epoch_num 10, batch_size 64, learning rate 0.1, with best val acc 0.9175\n",
      "current best hyper params are epoch_num 15, batch_size 32, learning rate 0.1, with best val acc 0.96\n",
      "current best hyper params are epoch_num 25, batch_size 32, learning rate 0.05, with best val acc 0.9825\n"
     ]
    }
   ],
   "source": [
    "def eval_acc(model ,dataloader_, require_confusion = False):\n",
    "    model.to(\"cpu\")\n",
    "    y_test = []\n",
    "    y_hat = []\n",
    "    model.eval()\n",
    "    for img_tensor, lab in dataloader_:\n",
    "        with torch.no_grad():\n",
    "            y_test.append(int(lab.argmax()))\n",
    "            y_hat_single = model(img_tensor.reshape(-1, 3, 128, 128)).reshape(-1)\n",
    "            y_hat.append(int(y_hat_single.reshape(-1).argmax()))\n",
    "    y_test = np.array(y_test)\n",
    "    y_hat = np.array(y_hat)\n",
    "    if require_confusion:\n",
    "        return accuracy(y_test, y_hat), confusion_matrix(y_test, y_hat)\n",
    "    return accuracy(y_test, y_hat)\n",
    "\n",
    "\n",
    "best_epoch_num = 0\n",
    "best_bs = 0\n",
    "best_lr = 0\n",
    "best_val_acc = 0\n",
    "best_state_dict = {}\n",
    "\n",
    "for epochs in [10, 15, 20, 25]:\n",
    "    for train_batch_size in [32, 64, 128]:\n",
    "        for lr in [0.5, 0.2, 0.1, 0.05]:\n",
    "            # initialize model weights\n",
    "            for param in model.parameters():\n",
    "                nn.init.uniform_(param)\n",
    "            model.to(device)\n",
    "            # shuffle train val idxs and assign to train and val datasetss\n",
    "            idxs_train_, idxs_val_ = shuffle_train_val_idx(idxs_train, idxs_val)\n",
    "            train_dataset.set_idx(idxs_train_, idxs_val_, idxs_test)\n",
    "            val_dataset.set_idx(idxs_train_, idxs_val_, idxs_test)\n",
    "            train_dataloader = DataLoader(train_dataset, batch_size = train_batch_size)\n",
    "            val_dataloader = DataLoader(val_dataset)\n",
    "            loss = nn.CrossEntropyLoss(reduction='none')\n",
    "            optimizer = torch.optim.Adam(model.parameters(), lr=lr)\n",
    "            train_model(model, train_dataloader, loss, optimizer, epochs, lr)\n",
    "            \n",
    "            # evaluate model performance on val_data and update best result \n",
    "            current_val_acc = eval_acc(model, val_dataloader)\n",
    "            if current_val_acc > best_val_acc:\n",
    "                best_epoch_num = epochs\n",
    "                best_bs = train_batch_size\n",
    "                best_lr = lr\n",
    "                best_val_acc = current_val_acc\n",
    "                best_state_dict = copy.deepcopy(model.state_dict())\n",
    "                print(f\"current best hyper params are epoch_num {best_epoch_num}, \", end = \"\")\n",
    "                print(f\"batch_size {best_bs}, learning rate {best_lr}, \", end = \"\")\n",
    "                print(f\"with best val acc {best_val_acc}\")"
   ]
  },
  {
   "cell_type": "code",
   "execution_count": 15,
   "metadata": {},
   "outputs": [
    {
     "name": "stdout",
     "output_type": "stream",
     "text": [
      "[[188   0   0   0   0]\n",
      " [  3 213   0   2   3]\n",
      " [  0   0 190   0   0]\n",
      " [  2   0   0 206   0]\n",
      " [  0   0   0   0 193]]\n",
      "accuracy: 0.99\n"
     ]
    }
   ],
   "source": [
    "model.load_state_dict(best_state_dict)\n",
    "# Deploy the model and evaluate performance\n",
    "acc, confusion = eval_acc(model, test_dataloader, require_confusion = True)\n",
    "print(confusion)\n",
    "print(\"accuracy:\", acc)"
   ]
  },
  {
   "cell_type": "markdown",
   "metadata": {},
   "source": [
    "## Step 4: Finetune your classifier. (15 points)\n",
    "\n",
    "In the previous section, you have built a pretty good classifier for certain species of fish. Now we are going to use this trained classifier and adapt it to classify a new set of species:\n",
    "\n",
    "    'Hourse Mackerel\n",
    "    'Red Mullet',\n",
    "    'Red Sea Bream'\n",
    "    'Sea Bass'\n",
    "\n",
    "### Step 4.1: Set up the data for new species. (2 points)\n",
    "Overwrite the labels correspondances so they only incude the new classes and regenerate the datasets and dataloaders."
   ]
  },
  {
   "cell_type": "code",
   "execution_count": 16,
   "metadata": {
    "jupyter": {
     "outputs_hidden": false
    },
    "pycharm": {
     "name": "#%%\n"
    }
   },
   "outputs": [],
   "source": [
    "Multiclass_labels_correspondances ={\n",
    "    'Hourse Mackerel': 0,\n",
    "    'Red Mullet': 1,\n",
    "    'Red Sea Bream': 2,\n",
    "    'Sea Bass': 3}\n",
    "\n",
    "LENDATA = 4000\n",
    "idxs = split_train_val_test(LENDATA, 0.8, require_val = False)\n",
    "\n",
    "# modify models as last layer only outputs 4 neurons\n",
    "model._modules['7'] = full_connection(1536,4)\n",
    "\n",
    "# Dataloaders\n",
    "train_dataset = FishDataset(img_path, *idxs, mode = \"train\")\n",
    "train_dataloader = DataLoader(train_dataset, batch_size = train_batch_size)\n",
    "test_dataset = FishDataset(img_path, *idxs, mode = \"test\")\n",
    "test_dataloader = DataLoader(test_dataset)"
   ]
  },
  {
   "cell_type": "markdown",
   "metadata": {},
   "source": [
    "### Step 4.2: Freeze the weights of all previous layers of the network except the last layer. (5 points)\n",
    "\n",
    "You can freeze them by setting the gradient requirements to ```False```."
   ]
  },
  {
   "cell_type": "code",
   "execution_count": 17,
   "metadata": {
    "jupyter": {
     "outputs_hidden": false
    },
    "pycharm": {
     "name": "#%%\n"
    }
   },
   "outputs": [],
   "source": [
    "def freeze_till_last(model):\n",
    "    for name, param in model.named_parameters():\n",
    "        param.requires_grad = False\n",
    "    last_layer = model._modules[name.split('.')[0]]\n",
    "    for param in last_layer.parameters():\n",
    "        param.requires_grad = True\n",
    "\n",
    "freeze_till_last(model)"
   ]
  },
  {
   "cell_type": "code",
   "execution_count": 18,
   "metadata": {},
   "outputs": [
    {
     "name": "stdout",
     "output_type": "stream",
     "text": [
      "---------------------Layer shape check---------------------\n",
      "Sequential output shape:\t torch.Size([4, 96, 59, 59])\n",
      "MaxPool2d output shape:\t torch.Size([4, 96, 29, 29])\n",
      "Sequential output shape:\t torch.Size([4, 256, 13, 13])\n",
      "MaxPool2d output shape:\t torch.Size([4, 256, 6, 6])\n",
      "Sequential output shape:\t torch.Size([4, 384, 6, 6])\n",
      "MaxPool2d output shape:\t torch.Size([4, 384, 2, 2])\n",
      "Flatten output shape:\t torch.Size([4, 1536])\n",
      "Sequential output shape:\t torch.Size([4, 4])\n"
     ]
    }
   ],
   "source": [
    "print(\"---------------------Layer shape check---------------------\")\n",
    "X = torch.rand(size=(4, 3, 128, 128))\n",
    "model.to(device)\n",
    "X = X.to(device)\n",
    "for layer in model:\n",
    "    X = layer(X)\n",
    "    print(layer.__class__.__name__,'output shape:\\t', X.shape)"
   ]
  },
  {
   "cell_type": "code",
   "execution_count": 19,
   "metadata": {
    "tags": []
   },
   "outputs": [],
   "source": [
    "# Loss function, softmax will be done aptumatically here\n",
    "loss = nn.CrossEntropyLoss(reduction='none') \n",
    "\n",
    "# Optimiser and learning rate\n",
    "lr = best_lr\n",
    "optimizer = torch.optim.Adam(model.parameters(), lr=lr)\n",
    "# Number of iterations for training\n",
    "epochs = best_epoch_num\n",
    "# Training batch size\n",
    "train_batch_size = best_bs"
   ]
  },
  {
   "cell_type": "markdown",
   "metadata": {},
   "source": [
    "### Step 4.3: Train and test your finetuned model. (5 points)"
   ]
  },
  {
   "cell_type": "code",
   "execution_count": 20,
   "metadata": {
    "jupyter": {
     "outputs_hidden": false
    },
    "pycharm": {
     "name": "#%%\n"
    },
    "scrolled": true
   },
   "outputs": [
    {
     "name": "stderr",
     "output_type": "stream",
     "text": [
      "  4%|▍         | 1/25 [00:05<02:04,  5.20s/it]"
     ]
    },
    {
     "name": "stdout",
     "output_type": "stream",
     "text": [
      "--- Iteration 1: training loss = 370.5200 ---\n"
     ]
    },
    {
     "name": "stderr",
     "output_type": "stream",
     "text": [
      "\r",
      "  8%|▊         | 2/25 [00:10<01:55,  5.04s/it]"
     ]
    },
    {
     "name": "stdout",
     "output_type": "stream",
     "text": [
      "--- Iteration 2: training loss = 81.3200 ---\n"
     ]
    },
    {
     "name": "stderr",
     "output_type": "stream",
     "text": [
      "\r",
      " 12%|█▏        | 3/25 [00:15<01:54,  5.21s/it]"
     ]
    },
    {
     "name": "stdout",
     "output_type": "stream",
     "text": [
      "--- Iteration 3: training loss = 66.3600 ---\n"
     ]
    },
    {
     "name": "stderr",
     "output_type": "stream",
     "text": [
      "\r",
      " 16%|█▌        | 4/25 [00:21<01:53,  5.41s/it]"
     ]
    },
    {
     "name": "stdout",
     "output_type": "stream",
     "text": [
      "--- Iteration 4: training loss = 55.3600 ---\n"
     ]
    },
    {
     "name": "stderr",
     "output_type": "stream",
     "text": [
      "\r",
      " 20%|██        | 5/25 [00:26<01:49,  5.46s/it]"
     ]
    },
    {
     "name": "stdout",
     "output_type": "stream",
     "text": [
      "--- Iteration 5: training loss = 49.1200 ---\n"
     ]
    },
    {
     "name": "stderr",
     "output_type": "stream",
     "text": [
      "\r",
      " 24%|██▍       | 6/25 [00:31<01:40,  5.28s/it]"
     ]
    },
    {
     "name": "stdout",
     "output_type": "stream",
     "text": [
      "--- Iteration 6: training loss = 44.3600 ---\n"
     ]
    },
    {
     "name": "stderr",
     "output_type": "stream",
     "text": [
      "\r",
      " 28%|██▊       | 7/25 [00:37<01:35,  5.32s/it]"
     ]
    },
    {
     "name": "stdout",
     "output_type": "stream",
     "text": [
      "--- Iteration 7: training loss = 37.7600 ---\n"
     ]
    },
    {
     "name": "stderr",
     "output_type": "stream",
     "text": [
      "\r",
      " 32%|███▏      | 8/25 [00:42<01:29,  5.24s/it]"
     ]
    },
    {
     "name": "stdout",
     "output_type": "stream",
     "text": [
      "--- Iteration 8: training loss = 35.7600 ---\n"
     ]
    },
    {
     "name": "stderr",
     "output_type": "stream",
     "text": [
      "\r",
      " 36%|███▌      | 9/25 [00:47<01:22,  5.13s/it]"
     ]
    },
    {
     "name": "stdout",
     "output_type": "stream",
     "text": [
      "--- Iteration 9: training loss = 31.7200 ---\n"
     ]
    },
    {
     "name": "stderr",
     "output_type": "stream",
     "text": [
      "\r",
      " 40%|████      | 10/25 [00:51<01:15,  5.05s/it]"
     ]
    },
    {
     "name": "stdout",
     "output_type": "stream",
     "text": [
      "--- Iteration 10: training loss = 31.4400 ---\n"
     ]
    },
    {
     "name": "stderr",
     "output_type": "stream",
     "text": [
      "\r",
      " 44%|████▍     | 11/25 [00:56<01:10,  5.02s/it]"
     ]
    },
    {
     "name": "stdout",
     "output_type": "stream",
     "text": [
      "--- Iteration 11: training loss = 30.4400 ---\n"
     ]
    },
    {
     "name": "stderr",
     "output_type": "stream",
     "text": [
      "\r",
      " 48%|████▊     | 12/25 [01:01<01:03,  4.88s/it]"
     ]
    },
    {
     "name": "stdout",
     "output_type": "stream",
     "text": [
      "--- Iteration 12: training loss = 29.2000 ---\n"
     ]
    },
    {
     "name": "stderr",
     "output_type": "stream",
     "text": [
      "\r",
      " 52%|█████▏    | 13/25 [01:07<01:00,  5.08s/it]"
     ]
    },
    {
     "name": "stdout",
     "output_type": "stream",
     "text": [
      "--- Iteration 13: training loss = 24.2800 ---\n"
     ]
    },
    {
     "name": "stderr",
     "output_type": "stream",
     "text": [
      "\r",
      " 56%|█████▌    | 14/25 [01:12<00:57,  5.22s/it]"
     ]
    },
    {
     "name": "stdout",
     "output_type": "stream",
     "text": [
      "--- Iteration 14: training loss = 23.3600 ---\n"
     ]
    },
    {
     "name": "stderr",
     "output_type": "stream",
     "text": [
      "\r",
      " 60%|██████    | 15/25 [01:17<00:52,  5.22s/it]"
     ]
    },
    {
     "name": "stdout",
     "output_type": "stream",
     "text": [
      "--- Iteration 15: training loss = 20.7600 ---\n"
     ]
    },
    {
     "name": "stderr",
     "output_type": "stream",
     "text": [
      "\r",
      " 64%|██████▍   | 16/25 [01:23<00:48,  5.39s/it]"
     ]
    },
    {
     "name": "stdout",
     "output_type": "stream",
     "text": [
      "--- Iteration 16: training loss = 21.7200 ---\n"
     ]
    },
    {
     "name": "stderr",
     "output_type": "stream",
     "text": [
      "\r",
      " 68%|██████▊   | 17/25 [01:28<00:43,  5.38s/it]"
     ]
    },
    {
     "name": "stdout",
     "output_type": "stream",
     "text": [
      "--- Iteration 17: training loss = 21.3200 ---\n"
     ]
    },
    {
     "name": "stderr",
     "output_type": "stream",
     "text": [
      "\r",
      " 72%|███████▏  | 18/25 [01:34<00:37,  5.35s/it]"
     ]
    },
    {
     "name": "stdout",
     "output_type": "stream",
     "text": [
      "--- Iteration 18: training loss = 20.4000 ---\n"
     ]
    },
    {
     "name": "stderr",
     "output_type": "stream",
     "text": [
      "\r",
      " 76%|███████▌  | 19/25 [01:39<00:31,  5.31s/it]"
     ]
    },
    {
     "name": "stdout",
     "output_type": "stream",
     "text": [
      "--- Iteration 19: training loss = 20.9600 ---\n"
     ]
    },
    {
     "name": "stderr",
     "output_type": "stream",
     "text": [
      "\r",
      " 80%|████████  | 20/25 [01:44<00:26,  5.24s/it]"
     ]
    },
    {
     "name": "stdout",
     "output_type": "stream",
     "text": [
      "--- Iteration 20: training loss = 19.0400 ---\n"
     ]
    },
    {
     "name": "stderr",
     "output_type": "stream",
     "text": [
      "\r",
      " 84%|████████▍ | 21/25 [01:49<00:20,  5.20s/it]"
     ]
    },
    {
     "name": "stdout",
     "output_type": "stream",
     "text": [
      "--- Iteration 21: training loss = 18.4800 ---\n"
     ]
    },
    {
     "name": "stderr",
     "output_type": "stream",
     "text": [
      "\r",
      " 88%|████████▊ | 22/25 [01:55<00:16,  5.50s/it]"
     ]
    },
    {
     "name": "stdout",
     "output_type": "stream",
     "text": [
      "--- Iteration 22: training loss = 20.3600 ---\n"
     ]
    },
    {
     "name": "stderr",
     "output_type": "stream",
     "text": [
      "\r",
      " 92%|█████████▏| 23/25 [02:01<00:11,  5.64s/it]"
     ]
    },
    {
     "name": "stdout",
     "output_type": "stream",
     "text": [
      "--- Iteration 23: training loss = 16.6000 ---\n"
     ]
    },
    {
     "name": "stderr",
     "output_type": "stream",
     "text": [
      "\r",
      " 96%|█████████▌| 24/25 [02:07<00:05,  5.61s/it]"
     ]
    },
    {
     "name": "stdout",
     "output_type": "stream",
     "text": [
      "--- Iteration 24: training loss = 16.9600 ---\n"
     ]
    },
    {
     "name": "stderr",
     "output_type": "stream",
     "text": [
      "100%|██████████| 25/25 [02:13<00:00,  5.32s/it]"
     ]
    },
    {
     "name": "stdout",
     "output_type": "stream",
     "text": [
      "--- Iteration 25: training loss = 17.0800 ---\n"
     ]
    },
    {
     "name": "stderr",
     "output_type": "stream",
     "text": [
      "\n"
     ]
    }
   ],
   "source": [
    "# Finetune the model\n",
    "model.to(device)\n",
    "for epoch in tqdm(range(epochs)):\n",
    "    model.train()\n",
    "    loss_curve = []\n",
    "    # Get a batch of training data and train the model\n",
    "    for i, (x,y) in enumerate(train_dataloader):\n",
    "        x = x.to(device)\n",
    "        y = y.to(device)\n",
    "        optimizer.zero_grad()\n",
    "        y_hat = model(x)\n",
    "        l = loss(y_hat, y).sum()\n",
    "        l.backward()\n",
    "        optimizer.step()\n",
    "        loss_curve.append(int(l))\n",
    "    print('--- Iteration {0}: training loss = {1:.4f} ---'.format(epoch + 1, np.array(loss_curve).mean()))"
   ]
  },
  {
   "cell_type": "code",
   "execution_count": 21,
   "metadata": {},
   "outputs": [
    {
     "name": "stdout",
     "output_type": "stream",
     "text": [
      "[[146  21   7  14]\n",
      " [  0 211   0   0]\n",
      " [  2   0 182   0]\n",
      " [ 28   8   5 176]]\n",
      "accuracy: 0.89375\n"
     ]
    }
   ],
   "source": [
    "# Deploy the model and evaluate performance\n",
    "acc, confusion = eval_acc(model, test_dataloader, require_confusion = True)\n",
    "print(confusion)\n",
    "print(\"accuracy:\", acc)"
   ]
  },
  {
   "cell_type": "markdown",
   "metadata": {},
   "source": [
    "### Step 4.4: Did finetuning work? Why did we freeze the first few layers? (3 points)"
   ]
  },
  {
   "cell_type": "markdown",
   "metadata": {},
   "source": [
    "Yes, finetuning works well.\n",
    "\n",
    "Reason for freezing the first few layers:\n",
    "\n",
    "When finetuning, we are using a pretained model on a similar fish classiication task. The feature extractor (namely, first few convolutional layers) in the pretrained model may generalize well to other tasks and does not need to be retrained. This saves a lot of time and computation, reaching a good result in just a few epochs. \n",
    "\n",
    "For example, compared with the original model, the loss of first 5 epochs in fintuning is dramatically smaller, and time spent to train each epoch also decreases from around 6.6 seconds to 5.3 seconds. \n",
    "\n",
    "Note that I just use the best hyperparameter from the previous task to save training time, they are not the best ones for this task. But it still reaches a quite good accuracy (89.7%). I believe after hyper parameter tuning, model performance on this task will improve dramatically"
   ]
  },
  {
   "cell_type": "code",
   "execution_count": null,
   "metadata": {},
   "outputs": [],
   "source": []
  }
 ],
 "metadata": {
  "kernelspec": {
   "display_name": "Python 3 (ipykernel)",
   "language": "python",
   "name": "python3"
  },
  "language_info": {
   "codemirror_mode": {
    "name": "ipython",
    "version": 3
   },
   "file_extension": ".py",
   "mimetype": "text/x-python",
   "name": "python",
   "nbconvert_exporter": "python",
   "pygments_lexer": "ipython3",
   "version": "3.7.10"
  },
  "widgets": {
   "application/vnd.jupyter.widget-state+json": {
    "state": {},
    "version_major": 2,
    "version_minor": 0
   }
  }
 },
 "nbformat": 4,
 "nbformat_minor": 4
}
